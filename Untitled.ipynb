{
 "cells": [
  {
   "cell_type": "code",
   "execution_count": null,
   "metadata": {},
   "outputs": [],
   "source": [
    "from numba import njit\n",
    "import numpy as np\n",
    "@njit('float32(uint8[:],float32[:],float32)')\n",
    "def sp0(a, n, sn):\n",
    "    r = 0\n",
    "    for i in range(len(a)-1):\n",
    "        r += np.log(sn / n[a[i]])\n",
    "        n[a[i]] += 1\n",
    "        sn += 1\n",
    "    return r\n",
    "@njit('float32(uint8[:],float32[:,:],float32[:])')\n",
    "def sp1(a, n, sn):\n",
    "    r = 0\n",
    "    L = len(n) - 1\n",
    "    for i in range(len(a)-2):\n",
    "        r += np.log(min(sn[a[i]]/n[a[i],a[i+1]],\n",
    "                        sn[L]/n[L,a[i+1]]))\n",
    "        n[a[i],a[i+1]] += 1\n",
    "        n[L,a[i+1]] += 1\n",
    "        sn[a[i]] += 1\n",
    "        sn[L] += 1\n",
    "    return r\n",
    "@njit('float32(uint8[:],float32[:,:,:],float32[:,:])')\n",
    "def sp2(a, n, sn):\n",
    "    r = 0\n",
    "    L = len(n) - 1\n",
    "    for i in range(len(a)-3):\n",
    "        r += np.log(min(sn[a[i],a[i+1]]/n[a[i],a[i+1],a[i+2]],\n",
    "                        sn[a[i],L]/n[a[i],L,a[i+2]],\n",
    "                        sn[L,a[i+1]]/n[L,a[i+1],a[i+2]],\n",
    "                        sn[L,L]/n[L,L,a[i+2]]))\n",
    "        n[a[i],a[i+1],a[i+2]] += 1\n",
    "        n[a[i],L,a[i+2]] += 1\n",
    "        n[L,a[i+1],a[i+2]] += 1\n",
    "        n[L,L,a[i+2]] += 1\n",
    "        sn[a[i],a[i+1]] += 1\n",
    "        sn[a[i],L] += 1\n",
    "        sn[L,a[i+1]] += 1\n",
    "        sn[L,L] += 1\n",
    "    return r\n",
    "@njit('float32(uint8[:],float32[:,:,:,:],float32[:,:,:])')\n",
    "def sp3(a, n, sn):\n",
    "    r = 0\n",
    "    L = len(n) - 1\n",
    "    for i in range(len(a)-3):\n",
    "        r += np.log(min(sn[a[i],a[i+1],a[i+2]]/n[a[i],a[i+1],a[i+2],a[i+3]],\n",
    "                        sn[a[i],a[i+1],L]/n[a[i],a[i+1],L,a[i+3]],\n",
    "                        sn[a[i],L,a[i+2]]/n[a[i],L,a[i+2],a[i+3]],\n",
    "                        sn[a[i],L,L]/n[a[i],L,L,a[i+3]],\n",
    "                        sn[L,a[i+1],a[i+2]]/n[L,a[i+1],a[i+2],a[i+3]],\n",
    "                        sn[L,a[i+1],L]/n[L,a[i+1],L,a[i+3]],\n",
    "                        sn[L,L,a[i+2]]/n[L,L,a[i+2],a[i+3]],\n",
    "                        sn[L,L,L]/n[L,L,L,a[i+3]]))\n",
    "        n[a[i],a[i+1],a[i+2],a[i+3]] += 1\n",
    "        n[a[i],a[i+1],L,a[i+3]] += 1\n",
    "        n[a[i],L,a[i+2],a[i+3]] += 1\n",
    "        n[a[i],L,L,a[i+3]] += 1\n",
    "        n[L,a[i+1],a[i+2],a[i+3]] += 1\n",
    "        n[L,a[i+1],L,a[i+3]] += 1\n",
    "        n[L,L,a[i+2],a[i+3]] += 1\n",
    "        n[L,L,L,a[i+3]] += 1\n",
    "        sn[a[i],a[i+1],a[i+2]] += 1\n",
    "        sn[a[i],a[i+1],L] += 1\n",
    "        sn[a[i],L,a[i+2]] += 1\n",
    "        sn[a[i],L,L] += 1\n",
    "        sn[L,a[i+1],a[i+2]] += 1\n",
    "        sn[L,a[i+1],L] += 1\n",
    "        sn[L,L,a[i+2]] += 1\n",
    "        sn[L,L,L] += 1\n",
    "    return r"
   ]
  },
  {
   "cell_type": "code",
   "execution_count": 38,
   "metadata": {},
   "outputs": [],
   "source": [
    "a = np.random.randint(0, 8, 256, 'B').repeat(16, 0).ravel()"
   ]
  },
  {
   "cell_type": "code",
   "execution_count": 39,
   "metadata": {},
   "outputs": [],
   "source": [
    "n = np.ones((9,9,9,9), 'f')\n",
    "n[:8].sum(0, out=n[8])\n",
    "n[:,:8].sum(1, out=n[:,8])\n",
    "n[:,:,:8].sum(2, out=n[:,:,8])\n",
    "sn = n.sum(-1)"
   ]
  },
  {
   "cell_type": "code",
   "execution_count": 40,
   "metadata": {},
   "outputs": [
    {
     "data": {
      "text/plain": [
       "1352.010498046875"
      ]
     },
     "execution_count": 40,
     "metadata": {},
     "output_type": "execute_result"
    }
   ],
   "source": [
    "sp3(a, n, sn)"
   ]
  },
  {
   "cell_type": "code",
   "execution_count": 41,
   "metadata": {},
   "outputs": [
    {
     "data": {
      "text/plain": [
       "0.15873525722347365"
      ]
     },
     "execution_count": 41,
     "metadata": {},
     "output_type": "execute_result"
    }
   ],
   "source": [
    "Out[40] / len(a) / np.log(8)"
   ]
  },
  {
   "cell_type": "code",
   "execution_count": null,
   "metadata": {
    "scrolled": true
   },
   "outputs": [],
   "source": [
    "for i in ('a[i]','L'):\n",
    "    for j in ('a[i+1]','L'):\n",
    "        for k in ('a[i+2]','L'):\n",
    "            k = ','.join((i,j,k))\n",
    "#             print('sn['+k+']/n['+k+',a[i+3]],')\n",
    "#             print('n[%s,a[i+3]] += 1' % k)\n",
    "#             print('sn[%s] += 1' % k)"
   ]
  }
 ],
 "metadata": {
  "kernelspec": {
   "display_name": "Python 3",
   "language": "python",
   "name": "python3"
  },
  "language_info": {
   "codemirror_mode": {
    "name": "ipython",
    "version": 3
   },
   "file_extension": ".py",
   "mimetype": "text/x-python",
   "name": "python",
   "nbconvert_exporter": "python",
   "pygments_lexer": "ipython3",
   "version": "3.7.3"
  }
 },
 "nbformat": 4,
 "nbformat_minor": 2
}
