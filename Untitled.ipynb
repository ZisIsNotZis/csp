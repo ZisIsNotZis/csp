{
 "cells": [
  {
   "cell_type": "code",
   "execution_count": null,
   "metadata": {},
   "outputs": [],
   "source": [
    "import numpy as np\n",
    "def md(n1):\n",
    "    sn1 = n1.sum(-1)\n",
    "    return np.log(sn1) - (n1[...,None,:] @ np.log(n1)[...,None])[...,0,0] / sn1\n",
    "def me(n1):\n",
    "    sn1 = n1.sum(-1)\n",
    "    return H[sn1] - (n1[...,None,:] @ H[n1][...,None])[...,0,0] / sn1\n",
    "H = np.arange(1048576, dtype='g')\n",
    "np.reciprocal(H[1:], H[1:])\n",
    "H.cumsum(out=H)\n",
    "H = H.astype('f')"
   ]
  },
  {
   "cell_type": "code",
   "execution_count": null,
   "metadata": {},
   "outputs": [],
   "source": [
    "import numpy as np\n",
    "class Flat(dict):\n",
    "    def __getitem__(s, a, i=0):\n",
    "        if i == len(a):\n",
    "            yield s.setdefault(a, len(s))\n",
    "        else:\n",
    "            yield from s.__getitem__(a[:i]+b'\\xff'+a[i+1:], i+1)\n",
    "            yield from s.__getitem__(a, i+1)\n",
    "def harmonic(a, out=None):\n",
    "    t    = np.log(a)\n",
    "    t   += .5772156649015329\n",
    "    t   += .5 / a\n",
    "    out  = np.square(a, out)\n",
    "    np.divide(.08333333333333333, out, out)\n",
    "    out += t\n",
    "    return out\n",
    "def p(a, i):\n",
    "    x,y,z = n[i[:,None],(a,-2,-1)].T\n",
    "    z /= y\n",
    "    harmonic(y, y)\n",
    "    y -= z\n",
    "    r  = y.argmin()\n",
    "    r  = y[r], np.log(n[i[r],-2] / x[r])\n",
    "    harmonic(x, y)\n",
    "    y *= x\n",
    "    x += 1\n",
    "    harmonic(x, z)\n",
    "    z *= x\n",
    "    z -= y\n",
    "    n[i[:,None],(a,-2)] += 1\n",
    "    n[i,-1] += z\n",
    "    return r\n",
    "def sp(a, k, prd):\n",
    "    global n, N\n",
    "    N = Flat()\n",
    "    n = None\n",
    "    n = np.ones((10485760*3//2,k+2), 'f')\n",
    "    n[:,k:] = k\n",
    "    r = []\n",
    "    for i,j in zip(a[prd:], np.lib.stride_tricks.as_strided(a,(len(a)-prd,prd),(1,1))):\n",
    "        r.append(p(i, np.fromiter(N[j.tobytes()], 'I')))\n",
    "    r = np.array(r, 'f') \n",
    "    r *= 12.5 / np.log(2)\n",
    "    return r\n",
    "def cumavg(a, dtype=None):\n",
    "    a = a.cumsum(0, dtype)\n",
    "    a.T[:] /= np.arange(1, len(a)+1, dtype=a.dtype)\n",
    "    return a"
   ]
  },
  {
   "cell_type": "code",
   "execution_count": null,
   "metadata": {},
   "outputs": [],
   "source": [
    "def p(a, i):\n",
    "    x,y,z = n[i[:,None],(a,-2,-1)].T\n",
    "    z.dtype = 'f'\n",
    "    z /= y\n",
    "    t = np.take(H, y, out=y.view('f'))\n",
    "    y.dtype = 'f'\n",
    "    y -= z\n",
    "    r  = y.argmin()\n",
    "    r  = y[r], np.log(n[i[r],-2] / x[r])\n",
    "    np.take(H, x, out=y)\n",
    "    y *= x\n",
    "    x += 1\n",
    "    np.take(H, x, out=z)\n",
    "    z *= x\n",
    "    z -= y\n",
    "    n[i[:,None],(a,-2)] += 1\n",
    "    n.view('f')[i,-1] += z\n",
    "    return r\n",
    "def sp(a, k, prd):\n",
    "    global n, N\n",
    "    N = Flat()\n",
    "    n = None\n",
    "    n = np.ones((10485760*3//2,k+2), 'I')\n",
    "    n[:,k:] = k, np.float32(k).view('I')\n",
    "    r = []\n",
    "    for i,j in zip(a[prd:], np.lib.stride_tricks.as_strided(a,(len(a)-prd,prd),(1,1))):\n",
    "        r.append(p(i, np.fromiter(N[j.tobytes()], 'I')))\n",
    "    r = np.array(r, 'f') \n",
    "    r *= 12.5 / np.log(2)\n",
    "    return r\n",
    "def cumavg(a, dtype=None):\n",
    "    a = a.cumsum(0, dtype)\n",
    "    a.T[:] /= np.arange(1, len(a)+1, dtype=a.dtype)\n",
    "    return a\n",
    "H = np.arange(10485760, dtype='g')\n",
    "np.reciprocal(H[1:], H[1:])\n",
    "H.cumsum(out=H)\n",
    "H = H.astype('f')"
   ]
  },
  {
   "cell_type": "code",
   "execution_count": null,
   "metadata": {},
   "outputs": [],
   "source": [
    "a = np.memmap('../py.B', mode='r')\n",
    "k = a.max() + 1"
   ]
  },
  {
   "cell_type": "code",
   "execution_count": null,
   "metadata": {},
   "outputs": [],
   "source": [
    "a = a[np.isin(a, [i for i in range(127) if len(repr(chr(i)))<4 or i==10])]\n",
    "m = np.zeros(256, 'B')\n",
    "m[a] = 1\n",
    "k = np.count_nonzero(m)\n",
    "m[m.view('?')] = range(k)\n",
    "a = m[a]\n",
    "a.tofile('../py.B')"
   ]
  },
  {
   "cell_type": "code",
   "execution_count": null,
   "metadata": {},
   "outputs": [],
   "source": [
    "r = sp(a, k, 2)"
   ]
  },
  {
   "cell_type": "code",
   "execution_count": null,
   "metadata": {},
   "outputs": [],
   "source": [
    "import matplotlib.pyplot as plt\n",
    "plt.plot(cumavg(r))"
   ]
  }
 ],
 "metadata": {
  "kernelspec": {
   "display_name": "Python 3",
   "language": "python",
   "name": "python3"
  },
  "language_info": {
   "codemirror_mode": {
    "name": "ipython",
    "version": 3
   },
   "file_extension": ".py",
   "mimetype": "text/x-python",
   "name": "python",
   "nbconvert_exporter": "python",
   "pygments_lexer": "ipython3",
   "version": "3.7.3"
  }
 },
 "nbformat": 4,
 "nbformat_minor": 2
}
